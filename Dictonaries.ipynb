{
 "cells": [
  {
   "cell_type": "code",
   "execution_count": 2,
   "metadata": {},
   "outputs": [
    {
     "name": "stdout",
     "output_type": "stream",
     "text": [
      "\n",
      "Dictionary with the use of Integer Keys: \n",
      "{1: 'Geeks', 2: 'For', 3: 'Geeks'}\n"
     ]
    }
   ],
   "source": [
    "# Creating a Dictionary  with Integer Keys \n",
    "Dict = {1: 'Geeks', 2: 'For', 3: 'Geeks'} \n",
    "print(\"\\nDictionary with the use of Integer Keys: \") \n",
    "print(Dict)"
   ]
  },
  {
   "cell_type": "code",
   "execution_count": 4,
   "metadata": {},
   "outputs": [
    {
     "name": "stdout",
     "output_type": "stream",
     "text": [
      "\n",
      "Dictionary with the use of Mixed Keys: \n",
      "{'Name': 'Geeks', 1: [1, 2, 3, 4]}\n"
     ]
    }
   ],
   "source": [
    "# Creating a Dictionary   with Mixed keys \n",
    "Dict = {'Name': 'Geeks', 1: [1, 2, 3, 4]} \n",
    "print(\"\\nDictionary with the use of Mixed Keys: \") \n",
    "print(Dict)"
   ]
  },
  {
   "cell_type": "code",
   "execution_count": 6,
   "metadata": {},
   "outputs": [
    {
     "name": "stdout",
     "output_type": "stream",
     "text": [
      "\n",
      "Dictionary with the use of dict(): \n",
      "{1: 'Geeks', 2: 'For', 3: 'Geeks'}\n"
     ]
    }
   ],
   "source": [
    "# Creating a Dictionary \n",
    "# with dict() method \n",
    "Dict = dict({1: 'Geeks', 2: 'For', 3:'Geeks'}) \n",
    "print(\"\\nDictionary with the use of dict(): \") \n",
    "print(Dict)"
   ]
  },
  {
   "cell_type": "code",
   "execution_count": 8,
   "metadata": {},
   "outputs": [
    {
     "name": "stdout",
     "output_type": "stream",
     "text": [
      "\n",
      "Dictionary with each item as a pair: \n",
      "{1: 'Geeks', 2: 'For'}\n"
     ]
    }
   ],
   "source": [
    "# Creating a Dictionary \n",
    "# with each item as a Pair \n",
    "Dict = dict([(1, 'Geeks'), (2, 'For')]) \n",
    "print(\"\\nDictionary with each item as a pair: \") \n",
    "print(Dict)"
   ]
  },
  {
   "cell_type": "code",
   "execution_count": 10,
   "metadata": {},
   "outputs": [
    {
     "name": "stdout",
     "output_type": "stream",
     "text": [
      "{1: 'Geeks', 2: 'For', 3: {'A': 'Welcome', 'B': 'To', 'C': 'Geeks'}}\n"
     ]
    }
   ],
   "source": [
    "# Creating a Nested Dictionary  \n",
    "Dict = {1: 'Geeks', 2: 'For',  \n",
    "        3:{'A' : 'Welcome', 'B' : 'To', 'C' : 'Geeks'}} \n",
    "print(Dict)"
   ]
  },
  {
   "cell_type": "code",
   "execution_count": 13,
   "metadata": {},
   "outputs": [
    {
     "name": "stdout",
     "output_type": "stream",
     "text": [
      "dict['Age']:  8\n",
      "dict['School']:  DPS School\n"
     ]
    }
   ],
   "source": [
    "#Updating Dictionary\n",
    "dict = {'Name': 'Zara', 'Age': 7, 'Class': 'First'}\n",
    "dict['Age'] = 8; # update existing entry\n",
    "dict['School'] = \"DPS School\"; # Add new entry\n",
    "\n",
    "print(\"dict['Age']: \", dict['Age'])\n",
    "print(\"dict['School']: \", dict['School'])"
   ]
  },
  {
   "cell_type": "code",
   "execution_count": 16,
   "metadata": {},
   "outputs": [
    {
     "name": "stdout",
     "output_type": "stream",
     "text": [
      "Length : 2\n"
     ]
    }
   ],
   "source": [
    "#Length\n",
    "dict = {'Name': 'Zara', 'Age': 7};\n",
    "print(\"Length : %d\" % len (dict))"
   ]
  },
  {
   "cell_type": "code",
   "execution_count": 18,
   "metadata": {},
   "outputs": [
    {
     "name": "stdout",
     "output_type": "stream",
     "text": [
      "dict['Name']:  Manni\n"
     ]
    }
   ],
   "source": [
    "#More than one entry to key is not allowed\n",
    "dict = {'Name': 'Zara', 'Age': 7, 'Name': 'Manni'}\n",
    "print(\"dict['Name']: \", dict['Name'])"
   ]
  },
  {
   "cell_type": "code",
   "execution_count": 22,
   "metadata": {},
   "outputs": [
    {
     "name": "stdout",
     "output_type": "stream",
     "text": [
      "Variable Type : <class 'dict'>\n"
     ]
    }
   ],
   "source": [
    "#Type of variable \n",
    "dict = {'Name': 'Zara', 'Age': 7};\n",
    "print(\"Variable Type : %s\" %  type (dict))"
   ]
  },
  {
   "cell_type": "code",
   "execution_count": 24,
   "metadata": {},
   "outputs": [
    {
     "name": "stdout",
     "output_type": "stream",
     "text": [
      "Equivalent String : {'Name': 'Zara', 'Age': 7}\n"
     ]
    }
   ],
   "source": [
    "#String Representation\n",
    "dict = {'Name': 'Zara', 'Age': 7};\n",
    "print(\"Equivalent String : %s\" % str (dict))"
   ]
  },
  {
   "cell_type": "code",
   "execution_count": 26,
   "metadata": {},
   "outputs": [
    {
     "name": "stdout",
     "output_type": "stream",
     "text": [
      "\n",
      "Dictionary after adding 3 elements: \n",
      "{0: 'Geeks', 2: 'For', 3: 1}\n"
     ]
    }
   ],
   "source": [
    "Dict = {} \n",
    "# Adding elements one at a time \n",
    "Dict[0] = 'Geeks'\n",
    "Dict[2] = 'For'\n",
    "Dict[3] = 1\n",
    "print(\"\\nDictionary after adding 3 elements: \") \n",
    "print(Dict)"
   ]
  },
  {
   "cell_type": "code",
   "execution_count": 28,
   "metadata": {},
   "outputs": [
    {
     "name": "stdout",
     "output_type": "stream",
     "text": [
      "\n",
      "Dictionary after adding 3 elements: \n",
      "{0: 'Geeks', 2: 'For', 3: 1, 'Value_set': (2, 3, 4)}\n"
     ]
    }
   ],
   "source": [
    "# Adding set of values  \n",
    "# to a single Key \n",
    "Dict['Value_set'] = 2, 3, 4\n",
    "print(\"\\nDictionary after adding 3 elements: \") \n",
    "print(Dict)"
   ]
  },
  {
   "cell_type": "code",
   "execution_count": 30,
   "metadata": {},
   "outputs": [
    {
     "name": "stdout",
     "output_type": "stream",
     "text": [
      "\n",
      "Adding a Nested Key: \n",
      "{0: 'Geeks', 2: 'For', 3: 1, 'Value_set': (2, 3, 4), 5: {'Nested': {'1': 'Life', '2': 'Geeks'}}}\n"
     ]
    }
   ],
   "source": [
    "# Adding Nested Key value to Dictionary \n",
    "Dict[5] = {'Nested' :{'1' : 'Life', '2' : 'Geeks'}} \n",
    "print(\"\\nAdding a Nested Key: \") \n",
    "print(Dict)"
   ]
  },
  {
   "cell_type": "code",
   "execution_count": 31,
   "metadata": {},
   "outputs": [
    {
     "name": "stdout",
     "output_type": "stream",
     "text": [
      "dict_keys(['A', 'B', 'C'])\n"
     ]
    }
   ],
   "source": [
    "# Printing keys of dictionary\n",
    "Dictionary1 = {'A': 'Geeks', 'B': 'For', 'C': 'Geeks'}   \n",
    "print(Dictionary1.keys())"
   ]
  }
 ],
 "metadata": {
  "kernelspec": {
   "display_name": "Python 3",
   "language": "python",
   "name": "python3"
  },
  "language_info": {
   "codemirror_mode": {
    "name": "ipython",
    "version": 3
   },
   "file_extension": ".py",
   "mimetype": "text/x-python",
   "name": "python",
   "nbconvert_exporter": "python",
   "pygments_lexer": "ipython3",
   "version": "3.7.6"
  }
 },
 "nbformat": 4,
 "nbformat_minor": 4
}
